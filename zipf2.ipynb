{
 "cells": [
  {
   "cell_type": "code",
   "execution_count": 1,
   "metadata": {},
   "outputs": [
    {
     "name": "stderr",
     "output_type": "stream",
     "text": [
      "[nltk_data] Downloading package wordnet to /home/mint/nltk_data...\n",
      "[nltk_data]   Package wordnet is already up-to-date!\n"
     ]
    },
    {
     "data": {
      "text/plain": [
       "True"
      ]
     },
     "execution_count": 1,
     "metadata": {},
     "output_type": "execute_result"
    }
   ],
   "source": [
    "import nltk\n",
    "nltk.download('wordnet')\n"
   ]
  },
  {
   "cell_type": "code",
   "execution_count": 5,
   "metadata": {},
   "outputs": [
    {
     "name": "stderr",
     "output_type": "stream",
     "text": [
      "[nltk_data] Downloading package wordnet to /home/mint/nltk_data...\n",
      "[nltk_data]   Package wordnet is already up-to-date!\n",
      "                                                                                \r"
     ]
    },
    {
     "name": "stdout",
     "output_type": "stream",
     "text": [
      "+---------------+-----+----------+\n",
      "|lemmatized_word|count|percentage|\n",
      "+---------------+-----+----------+\n",
      "|say            |2334 |2.16      |\n",
      "|dartagnan      |1782 |1.65      |\n",
      "|athos          |924  |0.86      |\n",
      "|monsieur       |714  |0.66      |\n",
      "|de             |711  |0.66      |\n",
      "|know           |695  |0.64      |\n",
      "|one            |692  |0.64      |\n",
      "|go             |689  |0.64      |\n",
      "|milady         |666  |0.62      |\n",
      "|man            |648  |0.6       |\n",
      "|take           |633  |0.59      |\n",
      "|make           |630  |0.58      |\n",
      "|come           |624  |0.58      |\n",
      "|upon           |597  |0.55      |\n",
      "|porthos        |568  |0.53      |\n",
      "|cry            |545  |0.5       |\n",
      "|well           |538  |0.5       |\n",
      "|see            |537  |0.5       |\n",
      "|time           |532  |0.49      |\n",
      "|cardinal       |516  |0.48      |\n",
      "+---------------+-----+----------+\n",
      "only showing top 20 rows\n",
      "\n"
     ]
    },
    {
     "name": "stderr",
     "output_type": "stream",
     "text": [
      "                                                                                \r"
     ]
    }
   ],
   "source": [
    "from pyspark.sql import SparkSession\n",
    "from pyspark.sql.functions import explode, split, lower, regexp_replace, col, sum as _sum, round, udf\n",
    "from pyspark.sql.types import StringType\n",
    "from nltk.stem import WordNetLemmatizer\n",
    "from pyspark.ml.feature import StopWordsRemover\n",
    "\n",
    "# Initialize Spark session\n",
    "spark = SparkSession.builder.appName(\"ZipfLawAnalysis\").getOrCreate()\n",
    "\n",
    "# Load text data\n",
    "df = spark.read.text(\"/home/mint/musketeers.txt\")\n",
    "\n",
    "# Tokenize text and normalize words\n",
    "words_df = df.select(split(lower(regexp_replace(df.value, \"[^\\w\\s]\", \"\")), \"\\s+\").alias(\"words\"))\n",
    "\n",
    "# List of additional stopwords\n",
    "custom_stopwords = [\"the\", \"to\", \"of\", \"and\", \"a\", \"in\", \"that\", \"is\", \"it\", \"for\", \"on\", \"with\", \"as\", \"was\", \"at\", \"by\", \"an\"]\n",
    "\n",
    "# Remove stopwords\n",
    "remover = StopWordsRemover(inputCol=\"words\", outputCol=\"filtered_words\", stopWords=StopWordsRemover.loadDefaultStopWords(\"english\") + custom_stopwords)\n",
    "filtered_df = remover.transform(words_df)\n",
    "\n",
    "# Initialize WordNet lemmatizer\n",
    "lemmatizer = WordNetLemmatizer()\n",
    "\n",
    "# Define a UDF for lemmatization with POS tag\n",
    "@udf(StringType())\n",
    "def lemmatize(word):\n",
    "    return lemmatizer.lemmatize(word, pos='v')\n",
    "\n",
    "# Apply lemmatization to the filtered words\n",
    "lemmatized_df = filtered_df.select(explode(col(\"filtered_words\")).alias(\"word\")) \\\n",
    "    .withColumn(\"lemmatized_word\", lemmatize(col(\"word\")))\n",
    "\n",
    "# Calculate word frequencies on lemmatized words\n",
    "word_counts_df = lemmatized_df.groupBy(\"lemmatized_word\").count().filter(col(\"lemmatized_word\") != \"\")\n",
    "\n",
    "# Calculate total word count\n",
    "total_word_count = word_counts_df.agg(_sum(\"count\").alias(\"total\")).collect()[0][\"total\"]\n",
    "\n",
    "# Add percentage column using PySpark's round function\n",
    "word_percentage_df = word_counts_df.withColumn(\"percentage\", round((col(\"count\") / total_word_count) * 100, 2))\n",
    "\n",
    "# Show the word, count, and percentage\n",
    "word_percentage_df.orderBy(\"count\", ascending=False).show(truncate=False)\n"
   ]
  },
  {
   "cell_type": "code",
   "execution_count": 59,
   "metadata": {},
   "outputs": [],
   "source": [
    "from pyspark.sql import SparkSession\n",
    "from pyspark.sql.functions import explode, split, lower, regexp_replace, col, sum as _sum, round, udf\n",
    "from pyspark.ml.feature import StopWordsRemover\n",
    "from pyspark.sql.types import StringType\n",
    "\n",
    "from nltk.stem import WordNetLemmatizer"
   ]
  },
  {
   "cell_type": "code",
   "execution_count": 60,
   "metadata": {},
   "outputs": [],
   "source": [
    "spark = SparkSession.builder.appName(\"ZipfLawAnalysis\").getOrCreate()\n",
    "\n",
    "df = spark.read.text(\"Pride_prejudice.txt\")"
   ]
  },
  {
   "cell_type": "code",
   "execution_count": 61,
   "metadata": {},
   "outputs": [],
   "source": [
    "#tokenize text and normalize words\n",
    "words_df = df.select(split(lower(regexp_replace(df.value, \"[^\\w\\s]\", \"\")), \"\\s+\").alias(\"words\"))"
   ]
  },
  {
   "cell_type": "code",
   "execution_count": 62,
   "metadata": {},
   "outputs": [],
   "source": [
    "#stopwords\n",
    "remover = StopWordsRemover(inputCol=\"words\", outputCol=\"filtered_words\", stopWords=StopWordsRemover.loadDefaultStopWords(\"english\"))\n",
    "filtered_df = remover.transform(words_df)\n"
   ]
  },
  {
   "cell_type": "code",
   "execution_count": 63,
   "metadata": {},
   "outputs": [],
   "source": [
    "#Lemmatize\n",
    "lemmatizer = WordNetLemmatizer()\n",
    "\n",
    "#UDF for lemmatization with POS tag\n",
    "@udf(StringType())\n",
    "def lemmatize(word):\n",
    "    return lemmatizer.lemmatize(word, pos='v')"
   ]
  },
  {
   "cell_type": "code",
   "execution_count": 64,
   "metadata": {},
   "outputs": [],
   "source": [
    "#applying\n",
    "lemmatized_df = filtered_df.select(explode(col(\"filtered_words\")).alias(\"word\")) \\\n",
    "    .withColumn(\"lemmatized_word\", lemmatize(col(\"word\")))"
   ]
  },
  {
   "cell_type": "code",
   "execution_count": 65,
   "metadata": {},
   "outputs": [],
   "source": [
    "#Counting frequency\n",
    "word_counts_df = lemmatized_df.groupBy(\"lemmatized_word\").count().filter(col(\"lemmatized_word\") != \"\")"
   ]
  },
  {
   "cell_type": "code",
   "execution_count": 66,
   "metadata": {},
   "outputs": [
    {
     "name": "stderr",
     "output_type": "stream",
     "text": [
      "                                                                                \r"
     ]
    }
   ],
   "source": [
    "total_word_count = word_counts_df.agg(_sum(\"count\").alias(\"total\")).collect()[0][\"total\"]\n",
    "word_percentage_df = word_counts_df.withColumn(\"percentage\", round((col(\"count\") / total_word_count) * 100, 2))"
   ]
  },
  {
   "cell_type": "code",
   "execution_count": 67,
   "metadata": {},
   "outputs": [
    {
     "name": "stdout",
     "output_type": "stream",
     "text": [
      "+---------------+-----+----------+\n",
      "|lemmatized_word|count|percentage|\n",
      "+---------------+-----+----------+\n",
      "|mr             |779  |1.43      |\n",
      "|say            |605  |1.11      |\n",
      "|elizabeth      |590  |1.08      |\n",
      "|know           |387  |0.71      |\n",
      "|darcy          |370  |0.68      |\n",
      "|think          |347  |0.64      |\n",
      "|mrs            |345  |0.63      |\n",
      "|make           |335  |0.62      |\n",
      "|much           |328  |0.6       |\n",
      "|must           |309  |0.57      |\n",
      "|bennet         |294  |0.54      |\n",
      "|see            |291  |0.53      |\n",
      "|miss           |287  |0.53      |\n",
      "|go             |287  |0.53      |\n",
      "|give           |265  |0.49      |\n",
      "|jane           |262  |0.48      |\n",
      "|one            |261  |0.48      |\n",
      "|come           |261  |0.48      |\n",
      "|bingley        |259  |0.48      |\n",
      "|never          |224  |0.41      |\n",
      "+---------------+-----+----------+\n",
      "only showing top 20 rows\n",
      "\n"
     ]
    }
   ],
   "source": [
    "word_percentage_df.orderBy(\"count\", ascending=False).show(truncate=False)\n"
   ]
  },
  {
   "cell_type": "code",
   "execution_count": 68,
   "metadata": {},
   "outputs": [
    {
     "name": "stderr",
     "output_type": "stream",
     "text": [
      "24/07/18 09:20:47 WARN WindowExec: No Partition Defined for Window operation! Moving all data to a single partition, this can cause serious performance degradation.\n",
      "24/07/18 09:20:47 WARN WindowExec: No Partition Defined for Window operation! Moving all data to a single partition, this can cause serious performance degradation.\n",
      "24/07/18 09:20:47 WARN WindowExec: No Partition Defined for Window operation! Moving all data to a single partition, this can cause serious performance degradation.\n",
      "24/07/18 09:20:47 WARN WindowExec: No Partition Defined for Window operation! Moving all data to a single partition, this can cause serious performance degradation.\n",
      "24/07/18 09:20:47 WARN WindowExec: No Partition Defined for Window operation! Moving all data to a single partition, this can cause serious performance degradation.\n",
      "24/07/18 09:20:47 WARN WindowExec: No Partition Defined for Window operation! Moving all data to a single partition, this can cause serious performance degradation.\n",
      "24/07/18 09:20:47 WARN WindowExec: No Partition Defined for Window operation! Moving all data to a single partition, this can cause serious performance degradation.\n"
     ]
    }
   ],
   "source": [
    "#ranking\n",
    "from pyspark.sql.window import Window\n",
    "from pyspark.sql.functions import row_number\n",
    "\n",
    "window_spec = Window.orderBy(col(\"count\").desc())\n",
    "ranked_df = word_counts_df.withColumn(\"rank\", row_number().over(window_spec))\n",
    "\n",
    "pandas_df = ranked_df.toPandas()"
   ]
  },
  {
   "cell_type": "code",
   "execution_count": 69,
   "metadata": {},
   "outputs": [
    {
     "data": {
      "image/png": "[encoded data removed]",
      "text/plain": [
       "<Figure size 1000x600 with 1 Axes>"
      ]
     },
     "metadata": {},
     "output_type": "display_data"
    }
   ],
   "source": [
    "import matplotlib.pyplot as plt\n",
    "\n",
    "plt.figure(figsize=(10, 6))\n",
    "plt.loglog(pandas_df[\"rank\"], pandas_df[\"count\"])\n",
    "plt.xlabel(\"Rank\")\n",
    "plt.ylabel(\"Frequency\")\n",
    "plt.title(\"Zipf's Law\")\n",
    "plt.show()"
   ]
  }
 ],
 "metadata": {
  "kernelspec": {
   "display_name": "Python 3",
   "language": "python",
   "name": "python3"
  },
  "language_info": {
   "codemirror_mode": {
    "name": "ipython",
    "version": 3
   },
   "file_extension": ".py",
   "mimetype": "text/x-python",
   "name": "python",
   "nbconvert_exporter": "python",
   "pygments_lexer": "ipython3",
   "version": "3.10.12"
  }
 },
 "nbformat": 4,
 "nbformat_minor": 2
}
